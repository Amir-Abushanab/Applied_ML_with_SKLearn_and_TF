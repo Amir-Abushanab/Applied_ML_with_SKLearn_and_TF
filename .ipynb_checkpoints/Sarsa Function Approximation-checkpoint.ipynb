{
 "cells": [
  {
   "cell_type": "code",
   "execution_count": 1,
   "metadata": {},
   "outputs": [
    {
     "ename": "ImportError",
     "evalue": "No module named 'tiles'",
     "output_type": "error",
     "traceback": [
      "\u001b[1;31m---------------------------------------------------------------------------\u001b[0m",
      "\u001b[1;31mImportError\u001b[0m                               Traceback (most recent call last)",
      "\u001b[1;32m<ipython-input-1-01dd8341e6b2>\u001b[0m in \u001b[0;36m<module>\u001b[1;34m()\u001b[0m\n\u001b[0;32m      1\u001b[0m \u001b[1;32mimport\u001b[0m \u001b[0mnumpy\u001b[0m \u001b[1;32mas\u001b[0m \u001b[0mnp\u001b[0m\u001b[1;33m\u001b[0m\u001b[0m\n\u001b[0;32m      2\u001b[0m \u001b[1;32mimport\u001b[0m \u001b[0mseaborn\u001b[0m \u001b[1;32mas\u001b[0m \u001b[0msns\u001b[0m\u001b[1;33m\u001b[0m\u001b[0m\n\u001b[1;32m----> 3\u001b[1;33m \u001b[1;32mfrom\u001b[0m \u001b[0mtiles\u001b[0m \u001b[1;32mimport\u001b[0m \u001b[0mTileCoding\u001b[0m\u001b[1;33m\u001b[0m\u001b[0m\n\u001b[0m\u001b[0;32m      4\u001b[0m \u001b[1;32mimport\u001b[0m \u001b[0mgym\u001b[0m\u001b[1;33m\u001b[0m\u001b[0m\n",
      "\u001b[1;31mImportError\u001b[0m: No module named 'tiles'"
     ]
    }
   ],
   "source": [
    "import numpy as np\n",
    "import seaborn as sns\n",
    "from tiles import TileCoding\n",
    "import gym "
   ]
  },
  {
   "cell_type": "code",
   "execution_count": 2,
   "metadata": {
    "collapsed": true
   },
   "outputs": [],
   "source": [
    "%matplotlib inline"
   ]
  },
  {
   "cell_type": "code",
   "execution_count": 3,
   "metadata": {
    "collapsed": true
   },
   "outputs": [],
   "source": [
    "class EpsilonGreedy:\n",
    "    def __init__(self, values, epsilon, features):\n",
    "        self.qvalues = values\n",
    "        self.eps = epsilon\n",
    "        self.features = features\n",
    "        \n",
    "    def sample(self, state):\n",
    "        if np.random.uniform() < self.eps :\n",
    "            return int(np.random.randint(self.qvalues.shape[1]))\n",
    "        return np.argmax(self.qvalues[self.features(state), :].sum(axis=0))"
   ]
  },
  {
   "cell_type": "code",
   "execution_count": 4,
   "metadata": {},
   "outputs": [
    {
     "name": "stderr",
     "output_type": "stream",
     "text": [
      "[2017-06-07 14:03:32,766] Making new env: MountainCar-v0\n"
     ]
    }
   ],
   "source": [
    "env = gym.make('MountainCar-v0')"
   ]
  },
  {
   "cell_type": "code",
   "execution_count": 28,
   "metadata": {
    "collapsed": true
   },
   "outputs": [],
   "source": [
    "nruns = 50\n",
    "nsteps = 1000\n",
    "nepisodes = 350\n",
    "gamma = 0.99\n",
    "exploration = 0.05\n",
    "learning_rate = 0.1\n",
    "\n",
    "env._max_episode_steps = nsteps\n",
    "\n",
    "allruns = []\n",
    "for run in range(nruns):\n",
    "    features = TileCoding(ntiling=10, memory_size=3000)\n",
    "    qvalues = np.zeros((features.memory_size, env.action_space.n))\n",
    "    policy = EpsilonGreedy(qvalues, exploration, features)\n",
    "\n",
    "    learning_curve = []\n",
    "    for ep in range(nepisodes):\n",
    "        cumul_reward = 0.\n",
    "        state = env.reset()\n",
    "        action = policy.sample(state)\n",
    "\n",
    "        for step in range(nsteps):\n",
    "            #env.render()\n",
    "            nextstate, reward, done, _ = env.step(action)\n",
    "            nextaction = policy.sample(nextstate)\n",
    "\n",
    "            # TD error\n",
    "            tderror = reward - qvalues[features(state), action].sum()\n",
    "            if not done:\n",
    "                tderror += gamma*qvalues[features(nextstate), nextaction].sum()\n",
    "\n",
    "            # TD update\n",
    "            qvalues[features(state), action] += (learning_rate/features.ntiling)*tderror\n",
    "\n",
    "            # SARSA housekeeping\n",
    "            state, action = nextstate, nextaction\n",
    "\n",
    "            cumul_reward += reward\n",
    "            if done:\n",
    "                break\n",
    "                \n",
    "        #print(\"Episode {0} finished after {1} steps, undiscounted return {2}\".format(ep, step+1, cumul_reward))                    \n",
    "        learning_curve.append(cumul_reward)\n",
    "    allruns.append(learning_curve)                "
   ]
  },
  {
   "cell_type": "code",
   "execution_count": 29,
   "metadata": {},
   "outputs": [
    {
     "data": {
      "text/plain": [
       "<matplotlib.axes._subplots.AxesSubplot at 0x7f76c3af5fd0>"
      ]
     },
     "execution_count": 29,
     "metadata": {},
     "output_type": "execute_result"
    },
    {
     "data": {
      "image/png": "[encoded data removed]",
      "text/plain": [
       "<matplotlib.figure.Figure at 0x7f76c3cc2d68>"
      ]
     },
     "metadata": {},
     "output_type": "display_data"
    }
   ],
   "source": [
    "sns.tsplot(allruns)"
   ]
  },
  {
   "cell_type": "code",
   "execution_count": null,
   "metadata": {
    "collapsed": true
   },
   "outputs": [],
   "source": []
  }
 ],
 "metadata": {
  "anaconda-cloud": {},
  "kernelspec": {
   "display_name": "Python 3",
   "language": "python",
   "name": "python3"
  },
  "language_info": {
   "codemirror_mode": {
    "name": "ipython",
    "version": 3
   },
   "file_extension": ".py",
   "mimetype": "text/x-python",
   "name": "python",
   "nbconvert_exporter": "python",
   "pygments_lexer": "ipython3",
   "version": "3.5.3"
  }
 },
 "nbformat": 4,
 "nbformat_minor": 1
}
