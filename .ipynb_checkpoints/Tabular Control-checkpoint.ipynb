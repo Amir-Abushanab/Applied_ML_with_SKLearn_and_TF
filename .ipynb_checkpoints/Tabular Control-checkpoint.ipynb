{
 "cells": [
  {
   "cell_type": "code",
   "execution_count": 1,
   "metadata": {},
   "outputs": [],
   "source": [
    "import numpy as np\n",
    "import seaborn as sns\n",
    "import gym "
   ]
  },
  {
   "cell_type": "code",
   "execution_count": 2,
   "metadata": {
    "collapsed": true
   },
   "outputs": [],
   "source": [
    "%matplotlib inline"
   ]
  },
  {
   "cell_type": "code",
   "execution_count": 3,
   "metadata": {},
   "outputs": [
    {
     "name": "stderr",
     "output_type": "stream",
     "text": [
      "[2017-07-02 13:57:09,616] Making new env: Taxi-v2\n"
     ]
    }
   ],
   "source": [
    "env = gym.make('Taxi-v2')\n",
    "nactions = env.action_space.n \n",
    "nstates = env.observation_space.n"
   ]
  },
  {
   "cell_type": "code",
   "execution_count": 4,
   "metadata": {
    "collapsed": true
   },
   "outputs": [],
   "source": [
    "class EpsilonGreedy:\n",
    "    def __init__(self, values, epsilon):\n",
    "        self.qvalues = values\n",
    "        self.eps = epsilon\n",
    "        \n",
    "    def sample(self, state):\n",
    "        if np.random.uniform() < self.eps :\n",
    "            return int(np.random.randint(self.qvalues.shape[1]))\n",
    "        return np.argmax(self.qvalues[state, :])\n",
    "    \n",
    "class SoftmaxPolicy:\n",
    "    def __init__(self, values, temp):\n",
    "        self.qvalues = values\n",
    "        self.temp = temp\n",
    "        \n",
    "    def pmf(self, state):\n",
    "        v = self.qvalues[state, :]/self.temp\n",
    "        expvalues = np.exp(v - np.max(v))\n",
    "        return expvalues / np.sum(expvalues)\n",
    "\n",
    "    def sample(self, state):\n",
    "        return np.random.choice(self.qvalues.shape[1], p=self.pmf(state))"
   ]
  },
  {
   "cell_type": "code",
   "execution_count": 5,
   "metadata": {
    "collapsed": true
   },
   "outputs": [],
   "source": [
    "nruns = 10\n",
    "nsteps = 1000\n",
    "nepisodes = 1000\n",
    "gamma = 0.99\n",
    "exploration = 0.05\n",
    "learning_rate = 0.25\n",
    "\n",
    "allruns = []\n",
    "for run in range(nruns):\n",
    "    qvalues = np.zeros((nstates, nactions))\n",
    "    policy = EpsilonGreedy(qvalues, exploration)\n",
    "    #policy = SoftmaxPolicy(qvalues, exploration)\n",
    "\n",
    "    learning_curve = []\n",
    "    for ep in range(nepisodes):\n",
    "        cumul_reward = 0.\n",
    "        state = env.reset()\n",
    "        action = policy.sample(state)\n",
    "\n",
    "        for step in range(nsteps):\n",
    "            nextstate, reward, done, _ = env.step(action)\n",
    "            nextaction = policy.sample(nextstate)\n",
    "\n",
    "            # TD error\n",
    "            tderror = reward - qvalues[state, action]\n",
    "            if not done:\n",
    "                tderror += gamma*qvalues[nextstate, nextaction]\n",
    "                #tderror += gamma*np.max(qvalues[nextstate, :])\n",
    "\n",
    "            # TD update\n",
    "            qvalues[state, action] += learning_rate*tderror\n",
    "                \n",
    "            # SARSA housekeeping\n",
    "            state, action = nextstate, nextaction\n",
    "            \n",
    "            # Q-learning\n",
    "            # state, action = nextstate, policy.sample(nextstate)\n",
    "            \n",
    "            cumul_reward += reward\n",
    "            if done:\n",
    "                break\n",
    "                \n",
    "        #print(\"Episode {0} finished after {1} steps, undiscounted return {2}\".format(ep, step+1, cumul_reward))    \n",
    "        learning_curve.append(cumul_reward)\n",
    "    allruns.append(learning_curve)"
   ]
  },
  {
   "cell_type": "code",
   "execution_count": 6,
   "metadata": {},
   "outputs": [
    {
     "data": {
      "text/plain": [
       "<matplotlib.axes._subplots.AxesSubplot at 0x1f4737ec358>"
      ]
     },
     "execution_count": 6,
     "metadata": {},
     "output_type": "execute_result"
    },
    {
     "data": {
      "image/png": "[encoded data removed]",
      "text/plain": [
       "<matplotlib.figure.Figure at 0x1f4737a5898>"
      ]
     },
     "metadata": {},
     "output_type": "display_data"
    }
   ],
   "source": [
    "sns.tsplot(allruns)"
   ]
  },
  {
   "cell_type": "code",
   "execution_count": null,
   "metadata": {
    "collapsed": true
   },
   "outputs": [],
   "source": []
  }
 ],
 "metadata": {
  "anaconda-cloud": {},
  "kernelspec": {
   "display_name": "Python 3",
   "language": "python",
   "name": "python3"
  },
  "language_info": {
   "codemirror_mode": {
    "name": "ipython",
    "version": 3
   },
   "file_extension": ".py",
   "mimetype": "text/x-python",
   "name": "python",
   "nbconvert_exporter": "python",
   "pygments_lexer": "ipython3",
   "version": "3.5.3"
  }
 },
 "nbformat": 4,
 "nbformat_minor": 1
}
